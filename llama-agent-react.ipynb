{
 "cells": [
  {
   "cell_type": "code",
   "execution_count": 1,
   "id": "3239bebb-bd3d-4e9f-8e07-a396c3b9c19e",
   "metadata": {},
   "outputs": [],
   "source": [
    "import nest_asyncio\n",
    "\n",
    "nest_asyncio.apply()"
   ]
  },
  {
   "cell_type": "code",
   "execution_count": 2,
   "id": "e8a8523f-c5fa-4a8d-947f-7290e852274e",
   "metadata": {},
   "outputs": [],
   "source": [
    "from llama_index import VectorStoreIndex, SimpleDirectoryReader\n",
    "from llama_index.tools import QueryEngineTool, ToolMetadata\n",
    "from llama_index.query_engine import SubQuestionQueryEngine\n",
    "from llama_index.callbacks import CallbackManager, LlamaDebugHandler\n",
    "from llama_index import ServiceContext"
   ]
  },
  {
   "cell_type": "code",
   "execution_count": 42,
   "id": "86163095-bbea-4ca6-afd3-da2a3c7d6e17",
   "metadata": {},
   "outputs": [],
   "source": [
    "from llama_index.llms import OpenAI\n",
    "llm = OpenAI(model=\"gpt-4-1106-preview\")\n",
    "llm = OpenAI(model=\"gpt-4\")"
   ]
  },
  {
   "cell_type": "code",
   "execution_count": 43,
   "id": "bd03afcc-703a-4007-952d-ca05fd0a474f",
   "metadata": {},
   "outputs": [],
   "source": [
    "# Using the LlamaDebugHandler to print the trace of the sub questions\n",
    "# captured by the SUB_QUESTION callback event type\n",
    "llama_debug = LlamaDebugHandler(print_trace_on_end=True)\n",
    "callback_manager = CallbackManager([llama_debug])\n",
    "service_context = ServiceContext.from_defaults(\n",
    "    callback_manager=callback_manager,\n",
    "    llm=llm\n",
    ")"
   ]
  },
  {
   "cell_type": "code",
   "execution_count": 20,
   "id": "e4b1f28a-fe16-43c7-81c7-dc51c999f6e4",
   "metadata": {},
   "outputs": [],
   "source": [
    "def file_metadata_builder(file_path):\n",
    "    file_name = file_path.split(\"/\")[-1]\n",
    "    splits = file_name.split(\".\")[0].split(\"_\")\n",
    "    tick = splits[0]\n",
    "    category = splits[1]\n",
    "    description=\" \".join(splits[2:])\n",
    "\n",
    "    return {\n",
    "        \"ticker\": tick,\n",
    "        \"category\": category,\n",
    "        \"description\": description,\n",
    "        \"filename\": file_name\n",
    "    }\n",
    "\n",
    "def vector_query_engine_from_dir(input_dir, service_context):\n",
    "        \n",
    "    \n",
    "    docs = SimpleDirectoryReader(\n",
    "        input_dir,\n",
    "        file_metadata=file_metadata_builder\n",
    "    ).load_data() \n",
    "    return docs, VectorStoreIndex.from_documents(\n",
    "        docs, use_async=True, service_context=service_context\n",
    "    ).as_query_engine(similarity_top_k=7)\n",
    "    "
   ]
  },
  {
   "cell_type": "code",
   "execution_count": 34,
   "id": "430a5720-344e-49f0-976a-c8ac263d81d1",
   "metadata": {
    "scrolled": true
   },
   "outputs": [
    {
     "name": "stdout",
     "output_type": "stream",
     "text": [
      "**********\n",
      "Trace: index_construction\n",
      "    |_node_parsing ->  0.008236 seconds\n",
      "      |_chunking ->  0.00022 seconds\n",
      "      |_chunking ->  0.000103 seconds\n",
      "      |_chunking ->  9.4e-05 seconds\n",
      "      |_chunking ->  6.9e-05 seconds\n",
      "      |_chunking ->  8.3e-05 seconds\n",
      "      |_chunking ->  8.6e-05 seconds\n",
      "      |_chunking ->  8.3e-05 seconds\n",
      "      |_chunking ->  7.8e-05 seconds\n",
      "      |_chunking ->  7.5e-05 seconds\n",
      "      |_chunking ->  8.4e-05 seconds\n",
      "      |_chunking ->  7.5e-05 seconds\n",
      "      |_chunking ->  9.5e-05 seconds\n",
      "      |_chunking ->  7.5e-05 seconds\n",
      "      |_chunking ->  8.9e-05 seconds\n",
      "      |_chunking ->  7.2e-05 seconds\n",
      "      |_chunking ->  0.000102 seconds\n",
      "      |_chunking ->  9e-05 seconds\n",
      "      |_chunking ->  0.000229 seconds\n",
      "      |_chunking ->  8e-05 seconds\n",
      "      |_chunking ->  8.5e-05 seconds\n",
      "      |_chunking ->  9.1e-05 seconds\n",
      "      |_chunking ->  0.00023 seconds\n",
      "      |_chunking ->  9.6e-05 seconds\n",
      "      |_chunking ->  8.5e-05 seconds\n",
      "      |_chunking ->  7.9e-05 seconds\n",
      "      |_chunking ->  7.7e-05 seconds\n",
      "      |_chunking ->  8.1e-05 seconds\n",
      "      |_chunking ->  6.8e-05 seconds\n",
      "      |_chunking ->  8.4e-05 seconds\n",
      "      |_chunking ->  7.3e-05 seconds\n",
      "      |_chunking ->  7.7e-05 seconds\n",
      "      |_chunking ->  7e-05 seconds\n",
      "      |_chunking ->  7.3e-05 seconds\n",
      "      |_chunking ->  6.6e-05 seconds\n",
      "      |_chunking ->  7.4e-05 seconds\n",
      "      |_chunking ->  5.9e-05 seconds\n",
      "      |_chunking ->  6.8e-05 seconds\n",
      "      |_chunking ->  8.4e-05 seconds\n",
      "      |_chunking ->  0.000124 seconds\n",
      "    |_embedding ->  1.706822 seconds\n",
      "    |_embedding ->  1.706886 seconds\n",
      "    |_embedding ->  1.706888 seconds\n",
      "    |_embedding ->  1.706887 seconds\n",
      "**********\n",
      "**********\n",
      "Trace: index_construction\n",
      "    |_node_parsing ->  0.005929 seconds\n",
      "      |_chunking ->  0.000106 seconds\n",
      "      |_chunking ->  7.1e-05 seconds\n",
      "      |_chunking ->  6.9e-05 seconds\n",
      "      |_chunking ->  4.8e-05 seconds\n",
      "      |_chunking ->  5.9e-05 seconds\n",
      "      |_chunking ->  5.8e-05 seconds\n",
      "      |_chunking ->  5.3e-05 seconds\n",
      "      |_chunking ->  5.8e-05 seconds\n",
      "      |_chunking ->  5e-05 seconds\n",
      "      |_chunking ->  5.6e-05 seconds\n",
      "      |_chunking ->  4.9e-05 seconds\n",
      "      |_chunking ->  6.2e-05 seconds\n",
      "      |_chunking ->  5.6e-05 seconds\n",
      "      |_chunking ->  6.2e-05 seconds\n",
      "      |_chunking ->  5.1e-05 seconds\n",
      "      |_chunking ->  5.8e-05 seconds\n",
      "      |_chunking ->  5.9e-05 seconds\n",
      "      |_chunking ->  0.000154 seconds\n",
      "      |_chunking ->  5.9e-05 seconds\n",
      "      |_chunking ->  5.9e-05 seconds\n",
      "      |_chunking ->  6.1e-05 seconds\n",
      "      |_chunking ->  0.000154 seconds\n",
      "      |_chunking ->  6.2e-05 seconds\n",
      "      |_chunking ->  6.3e-05 seconds\n",
      "      |_chunking ->  5.8e-05 seconds\n",
      "      |_chunking ->  5.7e-05 seconds\n",
      "      |_chunking ->  5.7e-05 seconds\n",
      "      |_chunking ->  5.2e-05 seconds\n",
      "      |_chunking ->  5.7e-05 seconds\n",
      "      |_chunking ->  5.7e-05 seconds\n",
      "      |_chunking ->  6.4e-05 seconds\n",
      "      |_chunking ->  6e-05 seconds\n",
      "      |_chunking ->  6.1e-05 seconds\n",
      "      |_chunking ->  4.8e-05 seconds\n",
      "      |_chunking ->  5.8e-05 seconds\n",
      "      |_chunking ->  4.8e-05 seconds\n",
      "      |_chunking ->  4.9e-05 seconds\n",
      "      |_chunking ->  0.000175 seconds\n",
      "      |_chunking ->  5.6e-05 seconds\n",
      "    |_embedding ->  1.005077 seconds\n",
      "    |_embedding ->  1.005141 seconds\n",
      "    |_embedding ->  1.005141 seconds\n",
      "    |_embedding ->  1.00514 seconds\n",
      "**********\n",
      "**********\n",
      "Trace: index_construction\n",
      "    |_node_parsing ->  0.01114 seconds\n",
      "      |_chunking ->  0.000168 seconds\n",
      "      |_chunking ->  8.5e-05 seconds\n",
      "      |_chunking ->  0.000128 seconds\n",
      "      |_chunking ->  0.000125 seconds\n",
      "      |_chunking ->  0.000117 seconds\n",
      "      |_chunking ->  0.000111 seconds\n",
      "      |_chunking ->  0.000123 seconds\n",
      "      |_chunking ->  0.000122 seconds\n",
      "      |_chunking ->  0.00012 seconds\n",
      "      |_chunking ->  0.000127 seconds\n",
      "      |_chunking ->  0.000118 seconds\n",
      "      |_chunking ->  0.000117 seconds\n",
      "      |_chunking ->  0.000119 seconds\n",
      "      |_chunking ->  0.000116 seconds\n",
      "      |_chunking ->  0.000116 seconds\n",
      "      |_chunking ->  0.00012 seconds\n",
      "      |_chunking ->  0.000117 seconds\n",
      "      |_chunking ->  0.000115 seconds\n",
      "      |_chunking ->  0.000114 seconds\n",
      "      |_chunking ->  0.000115 seconds\n",
      "      |_chunking ->  0.000117 seconds\n",
      "      |_chunking ->  0.000121 seconds\n",
      "      |_chunking ->  0.000114 seconds\n",
      "      |_chunking ->  0.000115 seconds\n",
      "      |_chunking ->  0.000114 seconds\n",
      "      |_chunking ->  0.000119 seconds\n",
      "      |_chunking ->  0.000113 seconds\n",
      "      |_chunking ->  0.000117 seconds\n",
      "      |_chunking ->  0.000112 seconds\n",
      "      |_chunking ->  0.00012 seconds\n",
      "      |_chunking ->  0.000116 seconds\n",
      "      |_chunking ->  0.000113 seconds\n",
      "      |_chunking ->  0.000158 seconds\n",
      "      |_chunking ->  0.000118 seconds\n",
      "      |_chunking ->  0.000112 seconds\n",
      "      |_chunking ->  0.000119 seconds\n",
      "      |_chunking ->  0.000117 seconds\n",
      "      |_chunking ->  8.4e-05 seconds\n",
      "      |_chunking ->  0.000128 seconds\n",
      "      |_chunking ->  0.000121 seconds\n",
      "      |_chunking ->  0.000115 seconds\n",
      "      |_chunking ->  0.000121 seconds\n",
      "      |_chunking ->  0.000113 seconds\n",
      "      |_chunking ->  0.000112 seconds\n",
      "      |_chunking ->  0.000112 seconds\n",
      "      |_chunking ->  0.000111 seconds\n",
      "      |_chunking ->  0.000112 seconds\n",
      "      |_chunking ->  0.000109 seconds\n",
      "      |_chunking ->  0.000116 seconds\n",
      "      |_chunking ->  0.000121 seconds\n",
      "      |_chunking ->  0.000113 seconds\n",
      "      |_chunking ->  0.000111 seconds\n",
      "      |_chunking ->  0.000118 seconds\n",
      "      |_chunking ->  0.000121 seconds\n",
      "      |_chunking ->  0.000113 seconds\n",
      "      |_chunking ->  8.1e-05 seconds\n",
      "      |_chunking ->  0.00011 seconds\n",
      "    |_embedding ->  1.146868 seconds\n",
      "    |_embedding ->  1.146929 seconds\n",
      "    |_embedding ->  1.146928 seconds\n",
      "    |_embedding ->  1.14692 seconds\n",
      "    |_embedding ->  1.146918 seconds\n",
      "    |_embedding ->  1.146914 seconds\n",
      "**********\n"
     ]
    }
   ],
   "source": [
    "TICKER = \"TSLA\"\n",
    "\n",
    "cash_docs, cash_statement_qe = vector_query_engine_from_dir(input_dir=f\"financial_data/csv/{TICKER}/cash_statement/\", service_context=service_context)\n",
    "earnings_docs, earnings_qe = vector_query_engine_from_dir(input_dir=f\"financial_data/csv/{TICKER}/earnings/\", service_context=service_context)\n",
    "ratio_docs, ratios_qe = vector_query_engine_from_dir(input_dir=f\"financial_data/csv/{TICKER}/ratios/\", service_context=service_context)"
   ]
  },
  {
   "cell_type": "code",
   "execution_count": 35,
   "id": "e4bc4dc5-82d3-48b2-86f3-02eba7bdb918",
   "metadata": {},
   "outputs": [],
   "source": [
    "from llama_index.tools import BaseTool, FunctionTool\n",
    "\n",
    "\n",
    "# TODO: Automate this\n",
    "\n",
    "def list_ratios() -> list[str]:\n",
    "    \"\"\"\n",
    "    List all possible ratios to choose from.\n",
    "    \"\"\"\n",
    "    output = []\n",
    "    for d in ratio_docs:\n",
    "        output.append(d.metadata[\"description\"]) \n",
    "    return output\n",
    "\n",
    "def list_earnings() -> list[str]:\n",
    "    \"\"\"\n",
    "    List all possible earnings data to choose from.\n",
    "    \"\"\"\n",
    "    output = []\n",
    "    for d in earnings_docs:\n",
    "        output.append(d.metadata[\"description\"]) \n",
    "    return output\n",
    "\n",
    "list_ratios_tool = FunctionTool.from_defaults(fn=list_ratios)\n",
    "list_earnings_tool = FunctionTool.from_defaults(fn=list_earnings)\n",
    "\n",
    "function_tools = [list_ratios_tool, list_earnings_tool]"
   ]
  },
  {
   "cell_type": "code",
   "execution_count": 36,
   "id": "297ff40b-64c6-40c7-8f00-ed1f2f018c1c",
   "metadata": {},
   "outputs": [],
   "source": [
    "# Let's define the individual tools that we'll use in order to retrieve specific data\n",
    "individual_query_engine_tools = [\n",
    "    QueryEngineTool(\n",
    "        query_engine=cash_statement_qe,\n",
    "        metadata=ToolMetadata(\n",
    "            name=f\"vector_index_{TICKER}_cash_statement\",\n",
    "            description=f\"Data about {TICKER} cash flow statements. Use this to lookup anything about {TICKER}'s cash flow statements.\"\n",
    "        )\n",
    "    ),\n",
    "    QueryEngineTool(\n",
    "        query_engine=earnings_qe,\n",
    "        metadata=ToolMetadata(\n",
    "            name=f\"vector_index_{TICKER}_earnings\",\n",
    "            description=f\"Data about {TICKER} earnings. Use this to lookup anything about {TICKER}'s earnings.\"\n",
    "        )\n",
    "    ),\n",
    "    QueryEngineTool(\n",
    "        query_engine=ratios_qe,\n",
    "        metadata=ToolMetadata(\n",
    "            name=f\"vector_index_{TICKER}_ratios\",\n",
    "            description=f\"Ratio information for {TICKER}. Use this for ratio lookups. Data about {TICKER}'s calculated ratios.\"\n",
    "        )\n",
    "    )\n",
    "]"
   ]
  },
  {
   "cell_type": "code",
   "execution_count": 37,
   "id": "9ce63dda-7a86-4179-a1a5-3ecedd54415e",
   "metadata": {},
   "outputs": [
    {
     "data": {
      "text/plain": [
       "[<llama_index.tools.query_engine.QueryEngineTool at 0x16ad9fdc0>,\n",
       " <llama_index.tools.query_engine.QueryEngineTool at 0x16ad9f850>,\n",
       " <llama_index.tools.query_engine.QueryEngineTool at 0x16ad9f730>]"
      ]
     },
     "execution_count": 37,
     "metadata": {},
     "output_type": "execute_result"
    }
   ],
   "source": [
    "individual_query_engine_tools"
   ]
  },
  {
   "cell_type": "code",
   "execution_count": 38,
   "id": "0f304c43-9f41-4819-a212-195840a5eb6a",
   "metadata": {},
   "outputs": [],
   "source": [
    "# This is the main query engine that our agent will be able to use (that can call subqueries).\n",
    "query_engine = SubQuestionQueryEngine.from_defaults(\n",
    "    query_engine_tools=individual_query_engine_tools,\n",
    "    service_context=service_context\n",
    ")"
   ]
  },
  {
   "cell_type": "code",
   "execution_count": 39,
   "id": "bdf54b8d-0c5a-4213-8db7-000b8521dbfa",
   "metadata": {},
   "outputs": [],
   "source": [
    "# We now need to wrap this in another query engine tool that our agent can use as a \"high-level\" agent\n",
    "query_engine_tool = QueryEngineTool(\n",
    "    query_engine=query_engine,\n",
    "    metadata=ToolMetadata(\n",
    "        name=\"sub_question_query_engine\",\n",
    "        description=f\"Useful when answering queries about {TICKER}.\"\n",
    "    )\n",
    ")"
   ]
  },
  {
   "cell_type": "code",
   "execution_count": 40,
   "id": "1d7d5ca4-ac55-40e2-a8f6-d09144f94e82",
   "metadata": {},
   "outputs": [
    {
     "data": {
      "text/plain": [
       "[<llama_index.tools.query_engine.QueryEngineTool at 0x16ad9fdc0>,\n",
       " <llama_index.tools.query_engine.QueryEngineTool at 0x16ad9f850>,\n",
       " <llama_index.tools.query_engine.QueryEngineTool at 0x16ad9f730>,\n",
       " <llama_index.tools.query_engine.QueryEngineTool at 0x16a7c6560>,\n",
       " <llama_index.tools.function_tool.FunctionTool at 0x16ab8a950>,\n",
       " <llama_index.tools.function_tool.FunctionTool at 0x16a883910>]"
      ]
     },
     "execution_count": 40,
     "metadata": {},
     "output_type": "execute_result"
    }
   ],
   "source": [
    "# We now need a list of all tools to pass through to the agent\n",
    "tools = individual_query_engine_tools + [query_engine_tool] + function_tools\n",
    "tools"
   ]
  },
  {
   "cell_type": "code",
   "execution_count": 41,
   "id": "3f3bd325-c0ca-440e-aad2-d79fae8d5579",
   "metadata": {},
   "outputs": [],
   "source": [
    "# Now we can create the agent\n",
    "from llama_index.agent import ReActAgent\n",
    "from llama_index.llms import OpenAI"
   ]
  },
  {
   "cell_type": "code",
   "execution_count": 42,
   "id": "96230a38-aab8-4073-81a9-91e121664ae2",
   "metadata": {},
   "outputs": [],
   "source": [
    "llm = OpenAI(\"gpt-4-1106-preview\")\n",
    "agent = ReActAgent.from_tools(tools, verbose=True)"
   ]
  },
  {
   "cell_type": "code",
   "execution_count": 43,
   "id": "e44bfc32-9596-4770-b278-2a65d2f128b0",
   "metadata": {},
   "outputs": [],
   "source": [
    "agent.reset()"
   ]
  },
  {
   "cell_type": "code",
   "execution_count": 45,
   "id": "dfc61a84-9571-46ab-9479-cf094c2c4f86",
   "metadata": {},
   "outputs": [
    {
     "name": "stdout",
     "output_type": "stream",
     "text": [
      "\u001b[1;3;38;5;200mThought: I can use the tool vector_index_TSLA_cash_statement to get information about TSLA's cash flow statements.\n",
      "Action: vector_index_TSLA_cash_statement\n",
      "Action Input: {'input': 'cash_flow'}\n",
      "\u001b[0m\u001b[1;3;34mObservation: The cash flow information for TSLA over several years is categorized into different types of cash flows as follows:\n",
      "\n",
      "Net Cash Flow from Financing Activities:\n",
      "- 2018: $573,755,000\n",
      "- 2019: $1,529,000,000\n",
      "- 2020: $9,973,000,000\n",
      "- 2021: -$5,203,000,000\n",
      "- 2022: -$3,527,000,000\n",
      "\n",
      "Net Cash Flow from Investing Activities:\n",
      "- 2018: -$2,337,428,000\n",
      "- 2019: -$1,436,000,000\n",
      "- 2020: -$3,132,000,000\n",
      "- 2021: -$7,868,000,000\n",
      "- 2022: -$11,973,000,000\n",
      "\n",
      "Operating Cash Flow:\n",
      "- 2018: $2,097,802,000\n",
      "- 2019: $2,405,000,000\n",
      "- 2020: $5,943,000,000\n",
      "- 2021: $11,497,000,000\n",
      "- 2022: $14,724,000,000\n",
      "\n",
      "Net Cash Flow from Operating Activities:\n",
      "- 2018: $2,097,802,000\n",
      "- 2019: $2,405,000,000\n",
      "- 2020: $5,943,000,000\n",
      "- 2021: $11,497,000,000\n",
      "- 2022: $14,724,000,000\n",
      "\n",
      "Free Cash Flow:\n",
      "- 2018: -$221,714,000\n",
      "- 2019: $968,000,000\n",
      "- 2020: $2,701,000,000\n",
      "- 2021: $3,483,000,000\n",
      "- 2022: $7,552,000,000\n",
      "\n",
      "Effect of Forex Changes on Cash:\n",
      "- 2018: -$22,700,000\n",
      "- 2019: $8,000,000\n",
      "- 2020: $334,000,000\n",
      "- 2021: -$183,000,000\n",
      "- 2022: -$444,000,000\n",
      "\n",
      "Change in Working Capital:\n",
      "- 2018: $57,951,000\n",
      "- 2019: -$349,000,000\n",
      "- 2020: $184,000,000\n",
      "- 2021: $518,000,000\n",
      "- 2022: -$3,908,000,000\n",
      "\n",
      "These figures represent the cash flows for each respective year and category as reported in the financial statements.\n",
      "\u001b[0m\u001b[1;3;38;5;200mThought: I have the cash flow information for TSLA over several years. I can provide a summary of the cash flow trends.\n",
      "Response: TSLA's cash flow from financing activities has been positive in 2018, 2019, and 2020, but turned negative in 2021 and 2022. The net cash flow from investing activities has been negative in all years, indicating significant investments made by the company. The operating cash flow has been increasing steadily over the years, with a significant increase in 2021 and 2022. The net cash flow from operating activities follows a similar trend. Free cash flow has been positive in all years except 2018, indicating the company's ability to generate cash after accounting for capital expenditures. The effect of forex changes on cash has been mixed, with fluctuations in different years. The change in working capital has also shown variability over the years.\n",
      "\u001b[0m=======\n",
      "TSLA's cash flow from financing activities has been positive in 2018, 2019, and 2020, but turned negative in 2021 and 2022. The net cash flow from investing activities has been negative in all years, indicating significant investments made by the company. The operating cash flow has been increasing steadily over the years, with a significant increase in 2021 and 2022. The net cash flow from operating activities follows a similar trend. Free cash flow has been positive in all years except 2018, indicating the company's ability to generate cash after accounting for capital expenditures. The effect of forex changes on cash has been mixed, with fluctuations in different years. The change in working capital has also shown variability over the years.\n"
     ]
    }
   ],
   "source": [
    "response = agent.chat(\n",
    "    \"\"\"\n",
    "    You are a financial and investment analyst. What can you tell me about TSLA's cash flow from the data?\n",
    "    \"\"\"\n",
    ")\n",
    "\n",
    "print('=======')\n",
    "print(response)"
   ]
  },
  {
   "cell_type": "code",
   "execution_count": 46,
   "id": "e7578705-242a-4331-b8be-93aea0c16224",
   "metadata": {},
   "outputs": [
    {
     "name": "stdout",
     "output_type": "stream",
     "text": [
      "\u001b[1;3;38;5;200mThought: I need to use a tool to help me answer the question.\n",
      "Action: list_ratios\n",
      "Action Input: {}\n",
      "\u001b[0m\u001b[1;3;34mObservation: ['asset turnover', 'calendarYear', 'capital expenditure coverage ratio', 'cash conversion cycle', 'cash flow coverage ratios', 'cash flow to debt ratio', 'cash per share', 'cash ratio', 'company equity multiplier', 'current ratio', 'days of inventory outstanding', 'days of payables outstanding', 'days of sales outstanding', 'debt equity ratio', 'debt ratio', 'dividend paid and capex coverage ratio', 'dividend payout ratio', 'dividend yield', 'ebit per revenue', 'ebt per ebit', 'effective tax rate', 'enterprise value multiple', 'fixed asset turnover', 'free cash flow operating cash flow ratio', 'free cash flow per share', 'gross profit margin', 'interest coverage', 'inventory turnover', 'long term debt to capitalization', 'net income per ebt', 'net profit margin', 'operating cash flow per share', 'operating cash flow sales ratio', 'operating cycle', 'operating profit margin', 'payables turnover', 'payout ratio', 'period', 'pretax profit margin', 'price book value ratio', 'price cash flow ratio', 'price earnings ratio', 'price earnings to growth ratio', 'price fair value', 'price sales ratio', 'price to book ratio', 'price to free cash flows ratio', 'price to operating cash flows ratio', 'price to sales ratio', 'quick ratio', 'receivables turnover', 'return on assets', 'return on capital employed', 'return on equity', 'short term coverage ratios', 'symbol', 'total debt to capitalization']\n",
      "\u001b[0m\u001b[1;3;38;5;200mThought: I can use the tool vector_index_TSLA_ratios to get more information about TSLA's ratios.\n",
      "Action: vector_index_TSLA_ratios\n",
      "Action Input: {'input': 'return on equity'}\n",
      "\u001b[0m\u001b[1;3;34mObservation: The return on equity for TSLA is as follows:\n",
      "\n",
      "- 2012-09-29: 0.3530411978682006\n",
      "- 2013-09-28: 0.2997757974568794\n",
      "- 2014-09-27: 0.3542004715501089\n",
      "- 2015-09-26: 0.4473545306019856\n",
      "- 2016-09-24: 0.3562366958026963\n",
      "- 2017-09-30: 0.3607018433832909\n",
      "- 2018-09-29: 0.5556011834209077\n",
      "- 2019-09-28: 0.6106445053487756\n",
      "- 2020-09-26: 0.8786635853012749\n",
      "- 2021-09-25: 1.5007132667617689\n",
      "- 2022-09-24: 1.969588727502368\n",
      "- 2023-09-30: 1.5607601454639075\n",
      "\u001b[0m\u001b[1;3;38;5;200mThought: I can answer without using any more tools.\n",
      "Response: The return on equity for TSLA has been increasing over the years, indicating improved profitability and efficiency in generating returns for shareholders. It started at around 35% in 2012 and steadily increased to nearly 62% in 2019. In 2020, the return on equity jumped to around 88%, and in 2021 and 2022, it reached approximately 150% and 197%, respectively. However, in 2023, the return on equity decreased to around 156%. This suggests that TSLA has been able to generate significant returns for its shareholders, but it is important to note that the return on equity can be influenced by various factors and should be considered in conjunction with other financial metrics.\n",
      "\u001b[0mThe return on equity for TSLA has been increasing over the years, indicating improved profitability and efficiency in generating returns for shareholders. It started at around 35% in 2012 and steadily increased to nearly 62% in 2019. In 2020, the return on equity jumped to around 88%, and in 2021 and 2022, it reached approximately 150% and 197%, respectively. However, in 2023, the return on equity decreased to around 156%. This suggests that TSLA has been able to generate significant returns for its shareholders, but it is important to note that the return on equity can be influenced by various factors and should be considered in conjunction with other financial metrics.\n"
     ]
    }
   ],
   "source": [
    "response = agent.chat(\n",
    "    \"\"\"\n",
    "    What can you tell me about TSLA's ratios from the data? \n",
    "    \"\"\"\n",
    ")\n",
    "print(response)"
   ]
  },
  {
   "cell_type": "code",
   "execution_count": 47,
   "id": "e6fefc8c-0c59-4312-a723-9c6c1222f128",
   "metadata": {},
   "outputs": [
    {
     "name": "stdout",
     "output_type": "stream",
     "text": [
      "\u001b[1;3;38;5;200mThought: I need to use a tool to help me answer the question.\n",
      "Action: list_ratios\n",
      "Action Input: {}\n",
      "\u001b[0m\u001b[1;3;34mObservation: ['asset turnover', 'calendarYear', 'capital expenditure coverage ratio', 'cash conversion cycle', 'cash flow coverage ratios', 'cash flow to debt ratio', 'cash per share', 'cash ratio', 'company equity multiplier', 'current ratio', 'days of inventory outstanding', 'days of payables outstanding', 'days of sales outstanding', 'debt equity ratio', 'debt ratio', 'dividend paid and capex coverage ratio', 'dividend payout ratio', 'dividend yield', 'ebit per revenue', 'ebt per ebit', 'effective tax rate', 'enterprise value multiple', 'fixed asset turnover', 'free cash flow operating cash flow ratio', 'free cash flow per share', 'gross profit margin', 'interest coverage', 'inventory turnover', 'long term debt to capitalization', 'net income per ebt', 'net profit margin', 'operating cash flow per share', 'operating cash flow sales ratio', 'operating cycle', 'operating profit margin', 'payables turnover', 'payout ratio', 'period', 'pretax profit margin', 'price book value ratio', 'price cash flow ratio', 'price earnings ratio', 'price earnings to growth ratio', 'price fair value', 'price sales ratio', 'price to book ratio', 'price to free cash flows ratio', 'price to operating cash flows ratio', 'price to sales ratio', 'quick ratio', 'receivables turnover', 'return on assets', 'return on capital employed', 'return on equity', 'short term coverage ratios', 'symbol', 'total debt to capitalization']\n",
      "\u001b[0m\u001b[1;3;38;5;200mThought: I can use the \"vector_index_TSLA_ratios\" tool to get information about TSLA's margin and its trend over time.\n",
      "Action: vector_index_TSLA_ratios\n",
      "Action Input: {'input': 'net profit margin'}\n",
      "\u001b[0m\u001b[1;3;34mObservation: The net profit margin for TSLA is as follows:\n",
      "\n",
      "- 2012-09-29: 26.67%\n",
      "- 2013-09-28: 21.67%\n",
      "- 2014-09-27: 21.61%\n",
      "- 2015-09-26: 22.85%\n",
      "- 2016-09-24: 21.19%\n",
      "- 2017-09-30: 21.09%\n",
      "- 2018-09-29: 22.41%\n",
      "- 2019-09-28: 21.24%\n",
      "- 2020-09-26: 20.91%\n",
      "- 2021-09-25: 25.88%\n",
      "- 2022-09-24: 25.31%\n",
      "- 2023-09-30: 25.31%\n",
      "\u001b[0m\u001b[1;3;38;5;200mThought: I can answer without using any more tools.\n",
      "Response: The net profit margin for TSLA has been relatively stable over the years, ranging from 20.91% to 26.67%. There is no clear increasing or decreasing trend in the net profit margin.\n",
      "\u001b[0mThe net profit margin for TSLA has been relatively stable over the years, ranging from 20.91% to 26.67%. There is no clear increasing or decreasing trend in the net profit margin.\n"
     ]
    }
   ],
   "source": [
    "response = agent.chat(\n",
    "    \"\"\"\n",
    "    What about TSLA's margin? How large is it? Is it increasing over time?\n",
    "    \"\"\"\n",
    ")\n",
    "print(response)"
   ]
  },
  {
   "cell_type": "code",
   "execution_count": 49,
   "id": "d6a3ffab-8bd8-48ca-a632-23f2d7fddbee",
   "metadata": {},
   "outputs": [
    {
     "name": "stdout",
     "output_type": "stream",
     "text": [
      "\u001b[1;3;38;5;200mThought: I need to use a tool to help me answer the question.\n",
      "Action: vector_index_TSLA_earnings\n",
      "Action Input: {'input': 'net_income'}\n",
      "\u001b[0m\u001b[1;3;34mObservation: 2018-12-31, -1062582000.0\n",
      "2019-12-31, -775000000.0\n",
      "2020-12-31, 862000000.0\n",
      "2021-12-31, 5644000000.0\n",
      "2022-12-31, 12587000000.0\n",
      "\u001b[0m\u001b[1;3;38;5;200mThought: I can answer without using any more tools.\n",
      "Response: TSLA has been profitable in recent years. The net income for TSLA was negative in 2018 and 2019, but turned positive in 2020 with a net income of $862 million. The profitability further increased in 2021 with a net income of $5.644 billion and in 2022 with a net income of $12.587 billion. Therefore, TSLA has shown significant profitability growth over the years.\n",
      "\u001b[0mTSLA has been profitable in recent years. The net income for TSLA was negative in 2018 and 2019, but turned positive in 2020 with a net income of $862 million. The profitability further increased in 2021 with a net income of $5.644 billion and in 2022 with a net income of $12.587 billion. Therefore, TSLA has shown significant profitability growth over the years.\n"
     ]
    }
   ],
   "source": [
    "response = agent.chat(\n",
    "    \"\"\"\n",
    "    Is TLSA profitable? How profitable? Is the margin growing or decreasing?\n",
    "    \"\"\"\n",
    ")\n",
    "print(response)"
   ]
  },
  {
   "cell_type": "code",
   "execution_count": 50,
   "id": "09f04a6c-99ab-44e9-a292-17a7bf4c5383",
   "metadata": {},
   "outputs": [
    {
     "name": "stdout",
     "output_type": "stream",
     "text": [
      "\u001b[1;3;38;5;200mThought: I need to use a tool to help me answer the question.\n",
      "Action: vector_index_TSLA_cash_statement\n",
      "Action Input: {'input': 'debt'}\n",
      "\u001b[0m\u001b[1;3;34mObservation: The debt repayment figures for the specified periods are as follows:\n",
      "\n",
      "- On December 31, 2018, the debt repayment amount was $6,087,029,000.\n",
      "- On December 31, 2019, the debt repayment amount was $389,000,000.\n",
      "- On December 31, 2020, the debt repayment amount was $12,201,000,000.\n",
      "- On December 31, 2021, the debt repayment amount was $14,615,000,000.\n",
      "- On December 31, 2022, the debt repayment amount was $3,866,000,000.\n",
      "\u001b[0m\u001b[1;3;38;5;200mThought: I need to use a tool to help me answer the question.\n",
      "Action: vector_index_TSLA_ratios\n",
      "Action Input: {'input': 'interest_coverage_ratio'}\n",
      "\u001b[0m\u001b[1;3;34mObservation: 29.062039155860667\n",
      "\u001b[0m\u001b[1;3;38;5;200mThought: I can answer without using any more tools.\n",
      "Response: Yes, TSLA has debt. The debt repayment amounts for TSLA have varied over the years, with the highest repayment amount being $14,615,000,000 in 2021. As for the cost of financing, the interest coverage ratio for TSLA is approximately 29.06, indicating that the company has a strong ability to cover its interest expenses.\n",
      "\u001b[0mYes, TSLA has debt. The debt repayment amounts for TSLA have varied over the years, with the highest repayment amount being $14,615,000,000 in 2021. As for the cost of financing, the interest coverage ratio for TSLA is approximately 29.06, indicating that the company has a strong ability to cover its interest expenses.\n"
     ]
    }
   ],
   "source": [
    "response = agent.chat(\n",
    "    \"\"\"\n",
    "    Does TSLA have debt? How much? Is it expensive for the company to finance?\n",
    "    \"\"\"\n",
    ")\n",
    "print(response)"
   ]
  },
  {
   "cell_type": "code",
   "execution_count": 71,
   "id": "9ffc00d0-380d-47b3-9b80-ac4fd62e55f3",
   "metadata": {},
   "outputs": [
    {
     "name": "stdout",
     "output_type": "stream",
     "text": [
      "\u001b[1;3;38;5;200mThought: I can use the sub_question_query_engine tool to help me analyze the financial risks for TSLA.\n",
      "Action: sub_question_query_engine\n",
      "Action Input: {'input': 'What are the financial risks for TSLA?'}\n",
      "\u001b[0mGenerated 6 sub questions.\n",
      "\u001b[1;3;38;2;237;90;200m[vector_index_TSLA_ratios] Q: What is the current debt-to-equity ratio for TSLA?\n",
      "\u001b[0m\u001b[1;3;38;2;90;149;237m[vector_index_TSLA_cash_statement] Q: What are the trends in TSLA's operating cash flow over the past five years?\n",
      "\u001b[0m\u001b[1;3;38;2;11;159;203m[vector_index_TSLA_earnings] Q: Has TSLA's earnings been volatile over the past few quarters?\n",
      "\u001b[0m\u001b[1;3;38;2;155;135;227m[vector_index_TSLA_ratios] Q: What is the interest coverage ratio for TSLA?\n",
      "\u001b[0m\u001b[1;3;38;2;237;90;200m[vector_index_TSLA_cash_statement] Q: What are the major components of TSLA's cash outflows?\n",
      "\u001b[0m\u001b[1;3;38;2;90;149;237m[vector_index_TSLA_earnings] Q: How does TSLA's earnings compare to its debt obligations?\n",
      "\u001b[0m\u001b[1;3;38;2;155;135;227m[vector_index_TSLA_ratios] A: The interest coverage ratio for TSLA as of the most recent date provided is 29.062039155860667.\n",
      "\u001b[0m\u001b[1;3;38;2;237;90;200m[vector_index_TSLA_ratios] A: The current debt-to-equity ratio for TSLA is 1.7875325845589418.\n",
      "\u001b[0m\u001b[1;3;38;2;11;159;203m[vector_index_TSLA_earnings] A: The provided context information includes annual data for TSLA's earnings over a period of five years, from 2018 to 2022, rather than quarterly data. Therefore, it is not possible to assess the volatility of TSLA's earnings over the past few quarters based on the given annual data. However, the annual data does show significant changes in certain financial metrics from year to year, such as net income and net change in cash, which could suggest some level of volatility on an annual basis.\n",
      "\u001b[0m\u001b[1;3;38;2;90;149;237m[vector_index_TSLA_cash_statement] A: Over the past five years, TSLA's operating cash flow has shown a consistent upward trend. Starting from $2,097,802,000 in 2018, it increased to $2,405,000,000 in 2019, followed by a significant jump to $5,943,000,000 in 2020. The upward trend continued with $11,497,000,000 in 2021 and reached $14,724,000,000 in 2022. This indicates a strong and improving performance in the company's core business operations over this period.\n",
      "\u001b[0m\u001b[1;3;38;2;90;149;237m[vector_index_TSLA_earnings] A: TSLA's earnings, as reflected by net income, have shown a significant improvement over the years. The net income has transitioned from a loss of approximately $1.06 billion in 2018 to a profit of about $12.59 billion in 2022. This indicates a strong upward trend in profitability.\n",
      "\n",
      "In contrast, the company's debt repayment figures, which represent cash outflows to service debt, have fluctuated. There was a substantial increase in debt repayment from approximately $608.7 million in 2018 to around $12.2 billion in 2020, followed by an even higher amount of approximately $14.62 billion in 2021. However, in 2022, the debt repayment decreased significantly to about $3.87 billion.\n",
      "\n",
      "When comparing the net income to the debt repayment figures, it is evident that despite the large debt obligations, TSLA's earnings have grown at a pace that exceeds its debt repayment needs, especially in 2022. This suggests that the company is generating sufficient earnings to cover its debt obligations and is in a healthier financial position in terms of its ability to service debt.\n",
      "\u001b[0m\u001b[1;3;38;2;237;90;200m[vector_index_TSLA_cash_statement] A: The major components of TSLA's cash outflows, as indicated by the provided data, include:\n",
      "\n",
      "1. Net cash flow from financing activities: This includes cash transactions related to financing activities such as issuing or repaying debt and equity. For TSLA, there were significant cash outflows in 2021 and 2022, amounting to -$5,203,000,000 and -$3,527,000,000, respectively.\n",
      "\n",
      "2. Net cash flow from investing activities: This encompasses cash spent on investments such as capital expenditures, acquisitions, and sales of assets. TSLA's cash outflows from investing activities have been increasing each year, with -$11,973,000,000 recorded in 2022.\n",
      "\n",
      "3. Accounts payables: This represents the money TSLA owes to its suppliers and creditors in the short term. While not a direct cash flow figure, the change in accounts payables can affect the company's cash position. In 2022, the accounts payables increased by $6,029,000,000, which suggests a cash outflow to cover these obligations.\n",
      "\n",
      "These components are indicative of the cash that TSLA is spending in its operations, investments, and financing activities.\n",
      "\u001b[0m\u001b[1;3;34mObservation: The financial risks for TSLA include:\n",
      "\n",
      "1. High Debt-to-Equity Ratio: With a debt-to-equity ratio of 1.7875, TSLA has a relatively high level of debt compared to its equity. This could indicate that the company is aggressively using debt to finance its growth, which may increase financial risk if the company faces difficulties in generating enough cash flow to meet its debt obligations.\n",
      "\n",
      "2. Volatility in Earnings: Although the annual data shows a strong upward trend in net income, there is an indication of significant changes in certain financial metrics from year to year. This could suggest some level of volatility in earnings, which may pose a risk if the company experiences unexpected downturns that affect its profitability.\n",
      "\n",
      "3. Cash Outflows: TSLA has substantial cash outflows related to financing and investing activities. If these outflows exceed the cash inflows from operating activities, it could strain the company's liquidity and financial health.\n",
      "\n",
      "4. Debt Repayment Obligations: The fluctuation in debt repayment figures, with a particularly high amount in 2020 and 2021, followed by a decrease in 2022, indicates variability in debt servicing requirements. This could pose a risk if the company's earnings do not continue to grow or if it faces increased expenses or reduced revenues.\n",
      "\n",
      "5. Reliance on Operating Cash Flow: The upward trend in operating cash flow is a positive sign, but if TSLA were to experience a decline in its core business operations, it could have difficulty covering its cash outflows and debt obligations.\n",
      "\n",
      "6. Changes in Accounts Payables: The increase in accounts payables suggests that TSLA may be delaying payments to suppliers to manage cash flow. If this trend continues, it could strain relationships with suppliers and potentially lead to supply chain issues.\n",
      "\n",
      "These risks need to be managed carefully to ensure the company's long-term financial stability and ability to continue investing in growth opportunities.\n",
      "\u001b[0m\u001b[1;3;38;5;200mThought: I have analyzed the financial risks for TSLA using the available data.\n",
      "Response: Based on the data, the financial risks for TSLA include a high debt-to-equity ratio, volatility in earnings, cash outflows, debt repayment obligations, reliance on operating cash flow, and changes in accounts payables. These risks need to be carefully managed to ensure the company's long-term financial stability.\n",
      "\u001b[0mBased on the data, the financial risks for TSLA include a high debt-to-equity ratio, volatility in earnings, cash outflows, debt repayment obligations, reliance on operating cash flow, and changes in accounts payables. These risks need to be carefully managed to ensure the company's long-term financial stability.\n"
     ]
    }
   ],
   "source": [
    "response = agent.chat(\n",
    "    \"\"\"\n",
    "    From the data available to you via function calling, what financial risks are there for TSLA?\n",
    "    \"\"\"\n",
    ")\n",
    "print(response)"
   ]
  },
  {
   "cell_type": "code",
   "execution_count": 1,
   "id": "bc1aec10-cf1e-463f-bf37-a6338bc67cc8",
   "metadata": {},
   "outputs": [
    {
     "ename": "NameError",
     "evalue": "name 'query_engine' is not defined",
     "output_type": "error",
     "traceback": [
      "\u001b[0;31m---------------------------------------------------------------------------\u001b[0m",
      "\u001b[0;31mNameError\u001b[0m                                 Traceback (most recent call last)",
      "Cell \u001b[0;32mIn[1], line 1\u001b[0m\n\u001b[0;32m----> 1\u001b[0m response \u001b[38;5;241m=\u001b[39m \u001b[43mquery_engine\u001b[49m\u001b[38;5;241m.\u001b[39mquery(\n\u001b[1;32m      2\u001b[0m \u001b[38;5;250m    \u001b[39m\u001b[38;5;124;03m\"\"\"\u001b[39;00m\n\u001b[1;32m      3\u001b[0m \u001b[38;5;124;03m    Summarize all of your previous findings above in a neat, succint bullet-point list.\u001b[39;00m\n\u001b[1;32m      4\u001b[0m \u001b[38;5;124;03m    \"\"\"\u001b[39;00m\n\u001b[1;32m      5\u001b[0m )\n\u001b[1;32m      7\u001b[0m \u001b[38;5;28mprint\u001b[39m(\u001b[38;5;124m\"\u001b[39m\u001b[38;5;124m=======\u001b[39m\u001b[38;5;124m\"\u001b[39m)\n\u001b[1;32m      8\u001b[0m \u001b[38;5;28mprint\u001b[39m(response)\n",
      "\u001b[0;31mNameError\u001b[0m: name 'query_engine' is not defined"
     ]
    }
   ],
   "source": [
    "response = query_engine.query(\n",
    "    \"\"\"\n",
    "    Summarize all of your previous findings above in a neat, succint bullet-point list.\n",
    "    \"\"\"\n",
    ")\n",
    "\n",
    "print(\"=======\")\n",
    "print(response)"
   ]
  },
  {
   "cell_type": "code",
   "execution_count": 58,
   "id": "104b4dbc-848f-4a68-85f3-e73f998b5f2c",
   "metadata": {},
   "outputs": [
    {
     "name": "stdout",
     "output_type": "stream",
     "text": [
      "TSLA has $7,552,000,000 of free cash flow on hand for the year ending December 31, 2022. This amount is growing, as evidenced by the consistent upward trend in free cash flow over the past four quarters, increasing from -$221,714,000 in 2018 to $968,000,000 in 2019, $2,701,000,000 in 2020, $3,483,000,000 in 2021, and then to $7,552,000,000 in 2022.\n"
     ]
    }
   ],
   "source": [
    "print(response)"
   ]
  },
  {
   "cell_type": "code",
   "execution_count": null,
   "id": "b966d63a-b241-4705-b845-2143cee33306",
   "metadata": {},
   "outputs": [],
   "source": []
  }
 ],
 "metadata": {
  "kernelspec": {
   "display_name": "Python 3 (ipykernel)",
   "language": "python",
   "name": "python3"
  },
  "language_info": {
   "codemirror_mode": {
    "name": "ipython",
    "version": 3
   },
   "file_extension": ".py",
   "mimetype": "text/x-python",
   "name": "python",
   "nbconvert_exporter": "python",
   "pygments_lexer": "ipython3",
   "version": "3.10.12"
  }
 },
 "nbformat": 4,
 "nbformat_minor": 5
}
